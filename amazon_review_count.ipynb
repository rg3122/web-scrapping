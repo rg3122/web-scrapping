{
  "nbformat": 4,
  "nbformat_minor": 0,
  "metadata": {
    "colab": {
      "provenance": [],
      "authorship_tag": "ABX9TyNAznuHlyCDw7o/a0pZvHZ0",
      "include_colab_link": true
    },
    "kernelspec": {
      "name": "python3",
      "display_name": "Python 3"
    },
    "language_info": {
      "name": "python"
    }
  },
  "cells": [
    {
      "cell_type": "markdown",
      "metadata": {
        "id": "view-in-github",
        "colab_type": "text"
      },
      "source": [
        "<a href=\"https://colab.research.google.com/github/rg3122/web-scrapping/blob/main/amazon_review_count.ipynb\" target=\"_parent\"><img src=\"https://colab.research.google.com/assets/colab-badge.svg\" alt=\"Open In Colab\"/></a>"
      ]
    },
    {
      "cell_type": "code",
      "execution_count": 5,
      "metadata": {
        "colab": {
          "base_uri": "https://localhost:8080/"
        },
        "id": "-PHXahEWHdL1",
        "outputId": "249b0bb5-48a2-4d9e-cd2d-0f0e6df259e6"
      },
      "outputs": [
        {
          "output_type": "stream",
          "name": "stdout",
          "text": [
            "Requirement already satisfied: beautifulsoup4 in /usr/local/lib/python3.10/dist-packages (4.12.3)\n",
            "Requirement already satisfied: soupsieve>1.2 in /usr/local/lib/python3.10/dist-packages (from beautifulsoup4) (2.5)\n"
          ]
        }
      ],
      "source": [
        "!pip install beautifulsoup4"
      ]
    },
    {
      "cell_type": "code",
      "source": [
        "!pip install lxml\n"
      ],
      "metadata": {
        "colab": {
          "base_uri": "https://localhost:8080/"
        },
        "id": "voNI3cHqHhLg",
        "outputId": "cf091165-e70e-4374-8616-7a286f83690a"
      },
      "execution_count": 6,
      "outputs": [
        {
          "output_type": "stream",
          "name": "stdout",
          "text": [
            "Requirement already satisfied: lxml in /usr/local/lib/python3.10/dist-packages (4.9.4)\n"
          ]
        }
      ]
    },
    {
      "cell_type": "code",
      "source": [
        "from bs4 import BeautifulSoup\n",
        "import requests\n",
        "import csv"
      ],
      "metadata": {
        "id": "alWkk3PVHhQL"
      },
      "execution_count": 3,
      "outputs": []
    },
    {
      "cell_type": "code",
      "source": [
        "try:\n",
        "    # Url of the website\n",
        "    url = 'https://www.amazon.in/s?k=Mobile+phones&crid=J73KNO4ZV2SH&sprefix=mobile+phone%2Caps%2C322&ref=nb_sb_noss_2'\n",
        "    # headers\n",
        "    headers = {'User-Agent':'Mozilla/5.0 (Windows NT 10.0; Win64; x64) AppleWebKit/537.36 (KHTML, like Gecko) Chrome/58.0.3029.110 Safari/537.3'}\n",
        "    # get request\n",
        "    html = requests.get(url,headers=headers).text\n",
        "    # parsing with beautifulSoup\n",
        "    bs = BeautifulSoup(html,'lxml')\n",
        "\n",
        "    # Extracing cell phone names, their prices and no of reviews\n",
        "    phone_name = [name.text for name in bs.find_all('span',class_='a-size-medium a-color-base a-text-normal')]\n",
        "    prices = [price.text for price in bs.find_all('span',class_='a-price-whole')]\n",
        "    reviews = [review.text for review in bs.find_all('span',class_='a-size-base s-underline-text')]\n",
        "\n",
        "    # priting phone names , prices and no of reviews\n",
        "    print('****** Phone Name ******')\n",
        "    print(phone_name)\n",
        "    print('****** Phone Price ******')\n",
        "    print(prices)\n",
        "    print('****** No of Reviews ******')\n",
        "    print(reviews)\n",
        "\n",
        "    # Exporting scraped data into csv\n",
        "    with open('CellPhones.csv', 'w') as file:\n",
        "        writer = csv.writer(file)\n",
        "        writer.writerow(['Phone Name', 'Prices','No of Reviews'])\n",
        "        for i in range(len(phone_name)):\n",
        "            writer.writerow([phone_name[i], prices[i],reviews[i]])\n",
        "\n",
        "except Exception as e:\n",
        "    print(e)"
      ],
      "metadata": {
        "colab": {
          "base_uri": "https://localhost:8080/"
        },
        "id": "E1dYucBhHhUD",
        "outputId": "3a1618b3-0262-4956-8eeb-569a212271e2"
      },
      "execution_count": 4,
      "outputs": [
        {
          "output_type": "stream",
          "name": "stdout",
          "text": [
            "****** Phone Name ******\n",
            "['OnePlus Nord CE 3 Lite 5G (Chromatic Gray, 8GB RAM, 256GB Storage)', \"Samsung Galaxy M14 5G (Smoky Teal,6GB,128GB)|50MP Triple Cam|Segment's Only 6000 mAh 5G SP|5nm Processor|2 Gen. OS Upgrade & 4 Year Security Update|12GB RAM with RAM Plus|Android 13|Without Charger\", 'Vivo Y27 (Burgundy Black, 6GB RAM, 128GB Storage) with No Cost EMI/Additional Exchange Offers', 'Samsung Galaxy M04 Light Green, 4GB RAM, 64GB Storage | Upto 8GB RAM with RAM Plus | MediaTek Helio P35 Octa-core Processor | 5000 mAh Battery | 13MP Dual Camera', \"HONOR 90 (Emerald Green, 12GB + 512GB) | India's First Eye Risk-Free Display | 200MP Main & 50MP Selfie Camera | Segment First Quad-Curved AMOLED Screen | Without Charger\", 'iQOO Neo9 Pro 5G (Fiery Red, 12GB RAM, 256GB Storage) | Snapdragon 8 Gen 2 Processor | Supercomputing Chip Q1 | Flagship Level Sony IMX920 Camera', 'Redmi A3 (Olive Green, 3GB RAM, 64GB Storage) | Premium Halo Design | 90Hz Display', 'iQOO Z6 Lite 5G (Stellar Green, 6GB RAM, 128GB Storage) with Charger | Qualcomm Snapdragon 4 Gen 1 Processor | 120Hz FHD+ Display | Travel Adaptor Included in The Box', 'Oneplus Nord CE 3 5G (Grey Shimmer, 8GB RAM, 128GB Storage)', 'OnePlus 11R 5G (Sonic Black, 16GB RAM, 256GB Storage)', \"Samsung Galaxy M14 5G (ICY Silver,6GB,128GB)|50MP Triple Cam|Segment's Only 6000 mAh 5G SP|5nm Processor|2 Gen. OS Upgrade & 4 Year Security Update|12GB RAM with RAM Plus|Android 13|Without Charger\", 'OnePlus Nord 2T 5G (Gray Shadow, 12GB Storage, 256GB Storage)', \"Samsung Galaxy M14 5G (Berry Blue,4GB,128GB)|50MP Triple Cam|Segment's Only 6000 mAh 5G SP|5nm Processor|2 Gen. OS Upgrade & 4 Year Security Update|12GB RAM with RAM Plus|Android 13|Without Charger\", 'Samsung Galaxy M13 (Midnight Blue, 4GB, 64GB Storage) | 6000mAh Battery | Upto 8GB RAM with RAM Plus', 'Samsung Galaxy M04 Dark Blue, 4GB RAM, 64GB Storage | Upto 8GB RAM with RAM Plus | MediaTek Helio P35 Octa-core Processor | 5000 mAh Battery | 13MP Dual Camera', 'Vivo T2x 5G (Marine Blue, 128 GB) (6 GB RAM)']\n",
            "****** Phone Price ******\n",
            "['19,999', '13,990', '11,999', '7,899', '29,999', '38,999', '7,299', '11,999', '24,999', '41,999', '13,990', '33,998', '12,490', '9,999', '7,500', '12,999']\n",
            "****** No of Reviews ******\n",
            "['45,470', '18,912', '369', '18,888', '2,543', '232', '29', '21,490', '9,854', '13,325', '18,912', '29,412', '18,912', '31,825', '18,888', '324']\n"
          ]
        }
      ]
    },
    {
      "cell_type": "code",
      "source": [],
      "metadata": {
        "id": "QC2wQLoOHhYj"
      },
      "execution_count": null,
      "outputs": []
    },
    {
      "cell_type": "code",
      "source": [],
      "metadata": {
        "id": "USLCOYYEHhcr"
      },
      "execution_count": null,
      "outputs": []
    },
    {
      "cell_type": "code",
      "source": [],
      "metadata": {
        "id": "sD6-BRowHhgy"
      },
      "execution_count": null,
      "outputs": []
    }
  ]
}